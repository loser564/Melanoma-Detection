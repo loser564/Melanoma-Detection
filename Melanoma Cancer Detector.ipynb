{
 "cells": [
  {
   "cell_type": "code",
   "execution_count": 3,
   "metadata": {},
   "outputs": [],
   "source": [
    "import os\n",
    "import math\n",
    "import numpy as np\n",
    "import matplotlib.pyplot as plt\n",
    "from PIL import Image\n",
    "from tensorflow.keras.utils import to_categorical\n",
    "from tensorflow.keras.preprocessing.image import ImageDataGenerator\n",
    "from tensorflow.keras.callbacks import EarlyStopping"
   ]
  },
  {
   "cell_type": "code",
   "execution_count": 4,
   "metadata": {},
   "outputs": [],
   "source": [
    "train = 'melanoma_cancer_dataset/train'\n",
    "\n",
    "# set all images to 224x224\n",
    "def resize_images(folder):\n",
    "    for filename in os.listdir(folder):\n",
    "        img = Image.open(folder + '\\\\' + filename)\n",
    "        img = img.resize((224, 224))\n",
    "        img.save(folder + '\\\\' + filename)\n",
    "\n",
    "resize_images(train + '\\\\benign')\n",
    "resize_images(train + '\\\\malignant')"
   ]
  },
  {
   "cell_type": "code",
   "execution_count": 5,
   "metadata": {},
   "outputs": [],
   "source": [
    "test = 'melanoma_cancer_dataset/test'\n",
    "resize_images(test + '\\\\benign')\n",
    "resize_images(test + '\\\\malignant')\n"
   ]
  },
  {
   "cell_type": "code",
   "execution_count": 6,
   "metadata": {},
   "outputs": [],
   "source": [
    "# find number of training and testing samples\n",
    "num_train = 0\n",
    "num_test = 0\n",
    "for folder in os.listdir(train):\n",
    "    num_train += len(os.listdir(train + '\\\\' + folder))\n",
    "for folder in os.listdir(test):\n",
    "    num_test += len(os.listdir(test + '\\\\' + folder))\n",
    "    \n",
    "batch_size = 32"
   ]
  },
  {
   "cell_type": "code",
   "execution_count": 7,
   "metadata": {},
   "outputs": [
    {
     "name": "stdout",
     "output_type": "stream",
     "text": [
      "Found 9605 images belonging to 2 classes.\n"
     ]
    }
   ],
   "source": [
    "\n",
    "train_datagen = ImageDataGenerator(\n",
    "    rescale=1./255,\n",
    "    rotation_range=40,\n",
    "    width_shift_range=0.2,\n",
    "    height_shift_range=0.2,\n",
    "    shear_range=0.2,\n",
    "    zoom_range=0.2,\n",
    "    horizontal_flip=True,\n",
    "    fill_mode='nearest'\n",
    ")\n",
    "\n",
    "train_generator = train_datagen.flow_from_directory(\n",
    "    train,\n",
    "    target_size=(224, 224),\n",
    "    batch_size=batch_size,\n",
    "    class_mode='binary'\n",
    ")\n",
    "\n",
    "\n"
   ]
  },
  {
   "cell_type": "code",
   "execution_count": 8,
   "metadata": {},
   "outputs": [
    {
     "name": "stdout",
     "output_type": "stream",
     "text": [
      "Found 1000 images belonging to 2 classes.\n"
     ]
    }
   ],
   "source": [
    "test_datagen = ImageDataGenerator(\n",
    "    rescale=1./255,\n",
    "   \n",
    ")\n",
    "\n",
    "\n",
    "test_generator = test_datagen.flow_from_directory(\n",
    "    test,  \n",
    "    target_size=(224, 224),\n",
    "    batch_size= batch_size,\n",
    "    class_mode='binary',  #\n",
    "    shuffle=False  \n",
    ")"
   ]
  },
  {
   "cell_type": "code",
   "execution_count": 9,
   "metadata": {},
   "outputs": [
    {
     "name": "stdout",
     "output_type": "stream",
     "text": [
      "WARNING:tensorflow:From c:\\Users\\Admin\\AppData\\Local\\Programs\\Python\\Python311\\Lib\\site-packages\\keras\\src\\backend.py:873: The name tf.get_default_graph is deprecated. Please use tf.compat.v1.get_default_graph instead.\n",
      "\n",
      "WARNING:tensorflow:From c:\\Users\\Admin\\AppData\\Local\\Programs\\Python\\Python311\\Lib\\site-packages\\keras\\src\\layers\\pooling\\max_pooling2d.py:161: The name tf.nn.max_pool is deprecated. Please use tf.nn.max_pool2d instead.\n",
      "\n",
      "WARNING:tensorflow:From c:\\Users\\Admin\\AppData\\Local\\Programs\\Python\\Python311\\Lib\\site-packages\\keras\\src\\optimizers\\__init__.py:309: The name tf.train.Optimizer is deprecated. Please use tf.compat.v1.train.Optimizer instead.\n",
      "\n"
     ]
    }
   ],
   "source": [
    "from tensorflow.keras.models import Sequential\n",
    "from tensorflow.keras.layers import Conv2D, MaxPooling2D, Flatten, Dense, Dropout\n",
    "\n",
    "model = Sequential([\n",
    "    Conv2D(32, (3, 3), activation='relu', input_shape=(224, 224, 3)),\n",
    "    MaxPooling2D(2, 2),\n",
    "    Conv2D(64, (3, 3), activation='relu'),\n",
    "    MaxPooling2D(2, 2),\n",
    "    Conv2D(128, (3, 3), activation='relu'),\n",
    "    MaxPooling2D(2, 2),\n",
    "    Flatten(),\n",
    "    Dropout(0.5),  # Helps reduce overfitting\n",
    "    Dense(512, activation='relu'),\n",
    "    Dense(1, activation='sigmoid')  # 'sigmoid' for binary classification\n",
    "])\n",
    "\n",
    "model.compile(optimizer='adam',\n",
    "              loss='binary_crossentropy',\n",
    "              metrics=['accuracy'])\n"
   ]
  },
  {
   "cell_type": "code",
   "execution_count": 10,
   "metadata": {},
   "outputs": [],
   "source": [
    "steps_per_epoch = math.ceil(num_train / batch_size)\n",
    "validation_steps = math.ceil(num_test / batch_size)"
   ]
  },
  {
   "cell_type": "code",
   "execution_count": 11,
   "metadata": {},
   "outputs": [
    {
     "name": "stdout",
     "output_type": "stream",
     "text": [
      "Epoch 1/15\n",
      "WARNING:tensorflow:From c:\\Users\\Admin\\AppData\\Local\\Programs\\Python\\Python311\\Lib\\site-packages\\keras\\src\\utils\\tf_utils.py:492: The name tf.ragged.RaggedTensorValue is deprecated. Please use tf.compat.v1.ragged.RaggedTensorValue instead.\n",
      "\n",
      "WARNING:tensorflow:From c:\\Users\\Admin\\AppData\\Local\\Programs\\Python\\Python311\\Lib\\site-packages\\keras\\src\\engine\\base_layer_utils.py:384: The name tf.executing_eagerly_outside_functions is deprecated. Please use tf.compat.v1.executing_eagerly_outside_functions instead.\n",
      "\n",
      "301/301 [==============================] - 365s 1s/step - loss: 0.4777 - accuracy: 0.7973 - val_loss: 0.3124 - val_accuracy: 0.8760\n",
      "Epoch 2/15\n",
      "301/301 [==============================] - 306s 1s/step - loss: 0.3532 - accuracy: 0.8504 - val_loss: 0.2822 - val_accuracy: 0.8920\n",
      "Epoch 3/15\n",
      "301/301 [==============================] - 282s 936ms/step - loss: 0.3327 - accuracy: 0.8606 - val_loss: 0.2999 - val_accuracy: 0.8640\n",
      "Epoch 4/15\n",
      "301/301 [==============================] - 272s 901ms/step - loss: 0.3180 - accuracy: 0.8693 - val_loss: 0.2868 - val_accuracy: 0.8910\n",
      "Epoch 5/15\n",
      "301/301 [==============================] - 276s 915ms/step - loss: 0.3153 - accuracy: 0.8693 - val_loss: 0.2570 - val_accuracy: 0.8930\n",
      "Epoch 6/15\n",
      "301/301 [==============================] - 282s 938ms/step - loss: 0.3084 - accuracy: 0.8690 - val_loss: 0.2897 - val_accuracy: 0.8900\n",
      "Epoch 7/15\n",
      "301/301 [==============================] - 265s 880ms/step - loss: 0.2938 - accuracy: 0.8781 - val_loss: 0.2465 - val_accuracy: 0.9070\n",
      "Epoch 8/15\n",
      "301/301 [==============================] - 263s 872ms/step - loss: 0.2919 - accuracy: 0.8775 - val_loss: 0.2458 - val_accuracy: 0.9010\n",
      "Epoch 9/15\n",
      "301/301 [==============================] - 268s 888ms/step - loss: 0.2842 - accuracy: 0.8802 - val_loss: 0.2522 - val_accuracy: 0.8940\n",
      "Epoch 10/15\n",
      "301/301 [==============================] - 259s 861ms/step - loss: 0.2927 - accuracy: 0.8790 - val_loss: 0.2785 - val_accuracy: 0.8850\n",
      "Epoch 11/15\n",
      "301/301 [==============================] - ETA: 0s - loss: 0.2900 - accuracy: 0.8799Restoring model weights from the end of the best epoch: 8.\n",
      "301/301 [==============================] - 269s 894ms/step - loss: 0.2900 - accuracy: 0.8799 - val_loss: 0.2603 - val_accuracy: 0.8920\n",
      "Epoch 11: early stopping\n"
     ]
    }
   ],
   "source": [
    "# Train the model\n",
    "early_stopping = EarlyStopping(\n",
    "    monitor='val_loss',  # or 'val_accuracy'\n",
    "    patience=3,  # Number of epochs with no improvement after which training will be stopped\n",
    "    restore_best_weights=True,  # Restores model weights from the epoch with the best value of the monitored metric.\n",
    "    verbose=1\n",
    ")\n",
    "history = model.fit(\n",
    "    train_generator,\n",
    "    steps_per_epoch=steps_per_epoch,\n",
    "    epochs=15,\n",
    "    validation_data=test_generator,\n",
    "    validation_steps=validation_steps,\n",
    "    callbacks=[early_stopping]\n",
    ")"
   ]
  },
  {
   "cell_type": "code",
   "execution_count": 12,
   "metadata": {},
   "outputs": [
    {
     "name": "stdout",
     "output_type": "stream",
     "text": [
      "31/31 [==============================] - 5s 154ms/step - loss: 0.2379 - accuracy: 0.9062\n",
      "Test Loss: 0.23786503076553345, Test Accuracy: 0.90625\n"
     ]
    }
   ],
   "source": [
    "# evaluate the model\n",
    "\n",
    "test_loss, test_accuracy = model.evaluate(test_generator, steps=test_generator.samples // test_generator.batch_size)\n",
    "print(f\"Test Loss: {test_loss}, Test Accuracy: {test_accuracy}\")\n"
   ]
  },
  {
   "cell_type": "code",
   "execution_count": 13,
   "metadata": {},
   "outputs": [
    {
     "name": "stdout",
     "output_type": "stream",
     "text": [
      "32/32 [==============================] - 5s 151ms/step\n"
     ]
    }
   ],
   "source": [
    "# make predictions\n",
    "predictions = model.predict(test_generator, steps= validation_steps)\n",
    "predicted_classes = predictions > 0.5"
   ]
  },
  {
   "cell_type": "code",
   "execution_count": 14,
   "metadata": {},
   "outputs": [
    {
     "name": "stdout",
     "output_type": "stream",
     "text": [
      "              precision    recall  f1-score   support\n",
      "\n",
      "      benign       0.88      0.93      0.90       500\n",
      "   malignant       0.93      0.87      0.90       500\n",
      "\n",
      "    accuracy                           0.90      1000\n",
      "   macro avg       0.90      0.90      0.90      1000\n",
      "weighted avg       0.90      0.90      0.90      1000\n",
      "\n"
     ]
    }
   ],
   "source": [
    "# classification report\n",
    "from sklearn.metrics import classification_report\n",
    "true_classes = test_generator.classes\n",
    "class_labels = list(test_generator.class_indices.keys())\n",
    "report = classification_report(true_classes, predicted_classes, target_names=class_labels)\n",
    "print(report)"
   ]
  },
  {
   "cell_type": "code",
   "execution_count": 15,
   "metadata": {},
   "outputs": [
    {
     "name": "stdout",
     "output_type": "stream",
     "text": [
      "[[467  33]\n",
      " [ 66 434]]\n"
     ]
    }
   ],
   "source": [
    "from sklearn.metrics import confusion_matrix\n",
    "cm = confusion_matrix(true_classes, predicted_classes)\n",
    "# print cm with labels\n",
    "print(cm)\n"
   ]
  },
  {
   "cell_type": "code",
   "execution_count": 16,
   "metadata": {},
   "outputs": [
    {
     "name": "stdout",
     "output_type": "stream",
     "text": [
      "32/32 [==============================] - 5s 138ms/step - loss: 0.2458 - accuracy: 0.9010\n",
      "Loss: 0.24584858119487762, Accuracy: 0.9010000228881836\n"
     ]
    }
   ],
   "source": [
    "evaluate_result = model.evaluate(test_generator, steps=validation_steps)\n",
    "print(f'Loss: {evaluate_result[0]}, Accuracy: {evaluate_result[1]}')"
   ]
  },
  {
   "cell_type": "code",
   "execution_count": 17,
   "metadata": {},
   "outputs": [
    {
     "name": "stderr",
     "output_type": "stream",
     "text": [
      "c:\\Users\\Admin\\AppData\\Local\\Programs\\Python\\Python311\\Lib\\site-packages\\keras\\src\\engine\\training.py:3103: UserWarning: You are saving your model as an HDF5 file via `model.save()`. This file format is considered legacy. We recommend using instead the native Keras format, e.g. `model.save('my_model.keras')`.\n",
      "  saving_api.save_model(\n"
     ]
    }
   ],
   "source": [
    "# export model as API\n",
    "model.save('melanoma_cancer_model.h5')\n"
   ]
  },
  {
   "cell_type": "code",
   "execution_count": null,
   "metadata": {},
   "outputs": [],
   "source": []
  }
 ],
 "metadata": {
  "kernelspec": {
   "display_name": "Python 3",
   "language": "python",
   "name": "python3"
  },
  "language_info": {
   "codemirror_mode": {
    "name": "ipython",
    "version": 3
   },
   "file_extension": ".py",
   "mimetype": "text/x-python",
   "name": "python",
   "nbconvert_exporter": "python",
   "pygments_lexer": "ipython3",
   "version": "3.11.2"
  }
 },
 "nbformat": 4,
 "nbformat_minor": 2
}
